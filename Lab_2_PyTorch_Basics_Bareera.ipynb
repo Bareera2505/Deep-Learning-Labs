{
  "nbformat": 4,
  "nbformat_minor": 0,
  "metadata": {
    "colab": {
      "name": "Lab 2-PyTorch Basics-Bareera.ipynb",
      "provenance": [],
      "collapsed_sections": [],
      "include_colab_link": true
    },
    "kernelspec": {
      "name": "python3",
      "display_name": "Python 3"
    }
  },
  "cells": [
    {
      "cell_type": "markdown",
      "metadata": {
        "id": "view-in-github",
        "colab_type": "text"
      },
      "source": [
        "<a href=\"https://colab.research.google.com/github/Bareera2505/Deep-Learning-Labs/blob/main/Lab_2_PyTorch_Basics_Bareera.ipynb\" target=\"_parent\"><img src=\"https://colab.research.google.com/assets/colab-badge.svg\" alt=\"Open In Colab\"/></a>"
      ]
    },
    {
      "cell_type": "markdown",
      "metadata": {
        "id": "YkXyuplZp4aQ"
      },
      "source": [
        "# Lab 2: PyTorch Basics"
      ]
    },
    {
      "cell_type": "code",
      "metadata": {
        "id": "p5dL4YeVorzV"
      },
      "source": [
        "import torch\n",
        "import numpy as np"
      ],
      "execution_count": 209,
      "outputs": []
    },
    {
      "cell_type": "markdown",
      "metadata": {
        "id": "EM6GQLv6j5uH"
      },
      "source": [
        "## Part 1: Tensors"
      ]
    },
    {
      "cell_type": "markdown",
      "metadata": {
        "id": "w-ULM1BdkBMt"
      },
      "source": [
        "Tensors operate much like numpy arrays, but have additional properties which allow them to be used more easily in machine learning, such as being compatible with GPUs and other hardware accelerators and being optimized for automatic differentiation."
      ]
    },
    {
      "cell_type": "markdown",
      "metadata": {
        "id": "rDar-UyQmRXX"
      },
      "source": [
        "### Tensor Attributes"
      ]
    },
    {
      "cell_type": "markdown",
      "metadata": {
        "id": "WUCv1fUWnCOP"
      },
      "source": [
        "**Shape**: A tuple (n1, n2, ... nd) indicating the dimesions of the Tensor. To refer to a particular dimension, use `dim`, (instead of `axis` for `np.array`).\n",
        "\n",
        "\n",
        "**Datatype**: Form of the data stored in the Tensor. Common datatypes include `torch.float`, `torch.long`, `torch.bool`. See https://pytorch.org/docs/stable/tensors.html for full list.\n",
        "\n",
        "**Device**: Default device is `torch.device('cpu')`. If you want to use your GPU, be sure that your PyTorch installation has CUDA compatibility. If you have a GPU available, you can set the device to `torch.device('cuda')`\n",
        "\n",
        "*Note*: If you have more than 1 GPU available, you can choose which gpu you would like to use by providing a device index. For example, `torch.device('cuda:0')` or `torch.device('cuda', index= 0)`"
      ]
    },
    {
      "cell_type": "code",
      "metadata": {
        "colab": {
          "base_uri": "https://localhost:8080/"
        },
        "id": "mOOErpWtnMtk",
        "outputId": "fbf7576a-97e6-4766-9c19-76e3dd98bf36"
      },
      "source": [
        "tensor = torch.rand(3,4)\n",
        "\n",
        "print(f\"Shape of tensor: {tensor.shape}\")\n",
        "print(f\"Datatype of tensor: {tensor.dtype}\")\n",
        "print(f\"Device tensor is stored on: {tensor.device}\")"
      ],
      "execution_count": 210,
      "outputs": [
        {
          "output_type": "stream",
          "name": "stdout",
          "text": [
            "Shape of tensor: torch.Size([3, 4])\n",
            "Datatype of tensor: torch.float32\n",
            "Device tensor is stored on: cpu\n"
          ]
        }
      ]
    },
    {
      "cell_type": "markdown",
      "metadata": {
        "id": "RcOH3zDFlp4V"
      },
      "source": [
        "### Tensor Initialization\n",
        "\n",
        "Like numpy arrays, Tensors can be initialized directly from data (in the form of a list or numpy array), or from random or constant values.\n",
        "\n",
        "Tensors can also be converted into numpy arrays using `numpy()`. To do this, the Tensor must have its device set to `cpu`, or it will cause an error. You can easily move a Tensor to the cpu using `cpu()`. Similarly, you can move a Tensor to the GPU using `cuda()`."
      ]
    },
    {
      "cell_type": "code",
      "metadata": {
        "colab": {
          "base_uri": "https://localhost:8080/"
        },
        "id": "CZ2lCpkhkP0J",
        "outputId": "bce63f16-808a-4177-8aa6-3a655037d67d"
      },
      "source": [
        "#From data\n",
        "data = [[1, 2], [3,4]]\n",
        "x_data = torch.tensor(data)\n",
        "\n",
        "#From Numpy Array\n",
        "np_array = np.array(data)\n",
        "x_np = torch.from_numpy(np_array)\n",
        "\n",
        "#From anaother tensor\n",
        "x_ones = torch.ones_like(x_data) # retains the properties of x_data\n",
        "print(f\"Ones Tensor: \\n {x_ones} \\n\")\n",
        "\n",
        "x_rand = torch.rand_like(x_data, dtype=torch.float) # overrides the datatype of x_data\n",
        "print(f\"Random Tensor: \\n {x_rand} \\n\")\n",
        "\n",
        "x_np = x_rand.cpu().numpy() #Move tensor to the cpu and then convert to numpy array"
      ],
      "execution_count": 211,
      "outputs": [
        {
          "output_type": "stream",
          "name": "stdout",
          "text": [
            "Ones Tensor: \n",
            " tensor([[1, 1],\n",
            "        [1, 1]]) \n",
            "\n",
            "Random Tensor: \n",
            " tensor([[0.9575, 0.8002],\n",
            "        [0.1162, 0.1813]]) \n",
            "\n"
          ]
        }
      ]
    },
    {
      "cell_type": "code",
      "metadata": {
        "colab": {
          "base_uri": "https://localhost:8080/"
        },
        "id": "_8vBJVhdku_N",
        "outputId": "ee8c65a9-9bf0-473e-bce7-8ba6ee8f315f"
      },
      "source": [
        "#Random and constant values\n",
        "shape = (2,3,)\n",
        "rand_tensor = torch.rand(shape)\n",
        "ones_tensor = torch.ones(shape)\n",
        "zeros_tensor = torch.zeros(shape)\n",
        "\n",
        "print(f\"Random Tensor: \\n {rand_tensor} \\n\")\n",
        "print(f\"Ones Tensor: \\n {ones_tensor} \\n\")\n",
        "print(f\"Zeros Tensor: \\n {zeros_tensor}\")"
      ],
      "execution_count": 212,
      "outputs": [
        {
          "output_type": "stream",
          "name": "stdout",
          "text": [
            "Random Tensor: \n",
            " tensor([[0.6661, 0.4336, 0.2267],\n",
            "        [0.2885, 0.1034, 0.1681]]) \n",
            "\n",
            "Ones Tensor: \n",
            " tensor([[1., 1., 1.],\n",
            "        [1., 1., 1.]]) \n",
            "\n",
            "Zeros Tensor: \n",
            " tensor([[0., 0., 0.],\n",
            "        [0., 0., 0.]])\n"
          ]
        }
      ]
    },
    {
      "cell_type": "markdown",
      "metadata": {
        "id": "ACK_7S2ypHne"
      },
      "source": [
        "### Tensor Operations"
      ]
    },
    {
      "cell_type": "markdown",
      "metadata": {
        "id": "jRV947xEpc40"
      },
      "source": [
        "Many of the artihmetic operations for Tensors are equivalent to those for numpy arrays, such as:\n",
        "<ul>\n",
        "<li>Indexing</li>\n",
        "<li>Slicing</li>\n",
        "<li>Matrix Multiplication (`@` or `tensor.matmul` )</li>\n",
        "<li>Elementwise Multiplication (`*` or `tensor.mul`)</li>\n",
        "<li>Addition and Subtraction</li>\n",
        "</ul>\n",
        "\n",
        "To concatenate two Tensors, the you use `torch.cat`, which is similar to `np.concatenate`."
      ]
    },
    {
      "cell_type": "code",
      "metadata": {
        "colab": {
          "base_uri": "https://localhost:8080/"
        },
        "id": "x-BaS_mqpRyK",
        "outputId": "fd78db6c-c6b6-4812-ba57-db7ed71c67c1"
      },
      "source": [
        "tensor = torch.ones(4, 4)\n",
        "#Matrix Multiplication\n",
        "y1 = tensor @ tensor.T\n",
        "y2 = tensor.matmul(tensor.T)\n",
        "\n",
        "#Elementwise Multiplication\n",
        "z1 = tensor * tensor\n",
        "z2 = tensor.mul(tensor)\n",
        "\n",
        "t1 = torch.cat([tensor, tensor, tensor], dim=1)\n",
        "print(t1)"
      ],
      "execution_count": 213,
      "outputs": [
        {
          "output_type": "stream",
          "name": "stdout",
          "text": [
            "tensor([[1., 1., 1., 1., 1., 1., 1., 1., 1., 1., 1., 1.],\n",
            "        [1., 1., 1., 1., 1., 1., 1., 1., 1., 1., 1., 1.],\n",
            "        [1., 1., 1., 1., 1., 1., 1., 1., 1., 1., 1., 1.],\n",
            "        [1., 1., 1., 1., 1., 1., 1., 1., 1., 1., 1., 1.]])\n"
          ]
        }
      ]
    },
    {
      "cell_type": "markdown",
      "metadata": {
        "id": "5TPP5Pf6sRlS"
      },
      "source": [
        "Single-element items can be converted to a Python numerical value using `item()`"
      ]
    },
    {
      "cell_type": "code",
      "metadata": {
        "colab": {
          "base_uri": "https://localhost:8080/"
        },
        "id": "X0PgmlQPsO2d",
        "outputId": "c5a617d9-e726-466c-b680-2b5f33ee38b7"
      },
      "source": [
        "agg = tensor.sum()\n",
        "agg_item = agg.item()\n",
        "print(agg_item, type(agg_item))"
      ],
      "execution_count": 214,
      "outputs": [
        {
          "output_type": "stream",
          "name": "stdout",
          "text": [
            "16.0 <class 'float'>\n"
          ]
        }
      ]
    },
    {
      "cell_type": "markdown",
      "metadata": {
        "id": "O7o92VwQtweK"
      },
      "source": [
        "## Part 2: Neural Net Models"
      ]
    },
    {
      "cell_type": "code",
      "metadata": {
        "id": "my6ukgfhuyK0"
      },
      "source": [
        "from torch import nn"
      ],
      "execution_count": 215,
      "outputs": []
    },
    {
      "cell_type": "markdown",
      "metadata": {
        "id": "I5ol0c99w2MK"
      },
      "source": [
        "### Defining a Model"
      ]
    },
    {
      "cell_type": "markdown",
      "metadata": {
        "id": "pJT0OIxxt5tV"
      },
      "source": [
        "The base class for any model in PyTorch is `nn.Module`. Every model that you building should have a `forward` function, which defines how your model processes input data."
      ]
    },
    {
      "cell_type": "code",
      "metadata": {
        "colab": {
          "base_uri": "https://localhost:8080/"
        },
        "id": "W-BsU5wit3kJ",
        "outputId": "e2ab5dc3-05b4-414e-bc55-e13aab983b9a"
      },
      "source": [
        "class ExModel(nn.Module):\n",
        "  '''\n",
        "  Example model: A simple, two-layer NN with ReLU activation. \n",
        "  Input dimension is 100, output dimension is 1.\n",
        "  '''\n",
        "  def __init__(self):\n",
        "    super(ExModel, self).__init__()\n",
        "    self.layer1 = nn.Linear(100, 50)\n",
        "    self.act1 = nn.ReLU()\n",
        "    self.output_layer = nn.Linear(50, 1)\n",
        "\n",
        "  def forward(self, x):\n",
        "    x = self.layer1(x)\n",
        "    x = self.act1(x)\n",
        "    output= self.output_layer(x)\n",
        "    return output\n",
        "\n",
        "\n",
        "model = ExModel()\n",
        "print(model)"
      ],
      "execution_count": 216,
      "outputs": [
        {
          "output_type": "stream",
          "name": "stdout",
          "text": [
            "ExModel(\n",
            "  (layer1): Linear(in_features=100, out_features=50, bias=True)\n",
            "  (act1): ReLU()\n",
            "  (output_layer): Linear(in_features=50, out_features=1, bias=True)\n",
            ")\n"
          ]
        }
      ]
    },
    {
      "cell_type": "markdown",
      "metadata": {
        "id": "Ibb5ihb0wJ4L"
      },
      "source": [
        "To process `input` using your model, simply call `model(input)`. Do not call `model.forward()` directly!"
      ]
    },
    {
      "cell_type": "code",
      "metadata": {
        "colab": {
          "base_uri": "https://localhost:8080/"
        },
        "id": "T91BlOenvwqH",
        "outputId": "b7783836-0a8a-4103-d223-14e7aa96dff4"
      },
      "source": [
        "batch_size = 64\n",
        "input = torch.rand(batch_size, 100)\n",
        "predictions = model(input)\n",
        "print(predictions.shape)"
      ],
      "execution_count": 217,
      "outputs": [
        {
          "output_type": "stream",
          "name": "stdout",
          "text": [
            "torch.Size([64, 1])\n"
          ]
        }
      ]
    },
    {
      "cell_type": "markdown",
      "metadata": {
        "id": "18fzs361wcrx"
      },
      "source": [
        "### Graph-based computation: Parameters, Autograd, and Optimization"
      ]
    },
    {
      "cell_type": "code",
      "metadata": {
        "id": "6P_4gM25v-aM"
      },
      "source": [
        "#Define hyperparameters for your training before initializing the optimizer\n",
        "learning_rate = 1e-1\n",
        "batch_size = 64\n",
        "epochs = 5"
      ],
      "execution_count": 218,
      "outputs": []
    },
    {
      "cell_type": "markdown",
      "metadata": {
        "id": "ebYA0EMu1xdK"
      },
      "source": [
        "**Loss Function**\n",
        "\n",
        "We start by defining a loss function. For Regression, the most common loss function is `nn.MSELoss` (Mean Square Error). For classification, the most common losses are `nn.NLLLoss` (Negative Log Likelihood) or `nn.CrossEntropy` (which combines `nn.LogSoftmax` and `nn/NLLLoss`)."
      ]
    },
    {
      "cell_type": "code",
      "metadata": {
        "id": "4igbJ41h2Ow2"
      },
      "source": [
        "#Initialize the loss Function\n",
        "loss_fn = nn.MSELoss()"
      ],
      "execution_count": 219,
      "outputs": []
    },
    {
      "cell_type": "markdown",
      "metadata": {
        "id": "BYCKylms3D6p"
      },
      "source": [
        "**Optimizer**\n",
        "\n",
        "Choose the optimizer you wish to use from those found in `torch.optim`. Commonly used optimizers include `SGD` and `Adam`. You can find the full list at https://pytorch.org/docs/stable/optim.html.\n",
        "\n",
        "When you define the optimizer, you must give the parameters the optimizer is optimizing. If all your parameters are contained in your model class, you can access them using `model.parameters()`."
      ]
    },
    {
      "cell_type": "code",
      "metadata": {
        "id": "WGpzAb2E3Ods"
      },
      "source": [
        "optimizer = torch.optim.SGD(model.parameters(), lr=learning_rate)"
      ],
      "execution_count": 220,
      "outputs": []
    },
    {
      "cell_type": "markdown",
      "metadata": {
        "id": "64LSRBG_4Fpp"
      },
      "source": [
        "**Training Steps**\n",
        "\n",
        "For each iteration in the training loop, optimization occurs in three steps:\n",
        "- Call `optimizer.zero_grad()` to reset the gradients of the model parameters. By default, the gradients accumulate, so this ensures that the optimizer is not double-counting </li>\n",
        "-Backpropagate the prediction loss with a call to `loss.backward()`. This causes PyTorch to deposit the gradients of the loss with respect to each parameter. </li>\n",
        "- Call `optimizer.step()` to update the parameters according to the optimization scheme and gradients calculated in the backwards pass. </li>"
      ]
    },
    {
      "cell_type": "code",
      "metadata": {
        "colab": {
          "base_uri": "https://localhost:8080/"
        },
        "id": "GPhwmqpM5QUl",
        "outputId": "c0cb4f2d-2b07-43c7-b242-9c8be802d984"
      },
      "source": [
        "#Randomly generate data and labels\n",
        "data = torch.rand(batch_size, 100)\n",
        "labels = torch.rand(batch_size, 1)\n",
        "epochs = 10\n",
        "\n",
        "#Training epochs\n",
        "for epoch in range(epochs):\n",
        "  optimizer.zero_grad()\n",
        "  out = model(data)           #Generate predictions using the model\n",
        "  loss = loss_fn(out, labels) #Loss/error\n",
        "  print(f'Training Loss: {loss:.4f}')\n",
        "  loss.backward()            #Propagate the gradients in backward pass\n",
        "  optimizer.step()           #Update the weights\n"
      ],
      "execution_count": 221,
      "outputs": [
        {
          "output_type": "stream",
          "name": "stdout",
          "text": [
            "Training Loss: 0.1940\n",
            "Training Loss: 0.0847\n",
            "Training Loss: 0.0774\n",
            "Training Loss: 0.0741\n",
            "Training Loss: 0.0724\n",
            "Training Loss: 0.0711\n",
            "Training Loss: 0.0698\n",
            "Training Loss: 0.0686\n",
            "Training Loss: 0.0674\n",
            "Training Loss: 0.0662\n"
          ]
        }
      ]
    },
    {
      "cell_type": "markdown",
      "metadata": {
        "id": "JFaq_ilu06Aa"
      },
      "source": [
        "### Saving and Loading Models"
      ]
    },
    {
      "cell_type": "markdown",
      "metadata": {
        "id": "KQspRTe81BtE"
      },
      "source": [
        "The weights of a model are stored in a `state_dict`. You can train a model's state dictionary alone, or the entire model (including size and other hyperparameters). To load the weights of a model, use `model.load_statedict()`."
      ]
    },
    {
      "cell_type": "code",
      "metadata": {
        "id": "9twBhmrq0Ens"
      },
      "source": [
        "#Saving a model state_dict\n",
        "model = ExModel()\n",
        "torch.save(model.state_dict(), 'model_weights.pth')\n",
        "model.load_state_dict(torch.load('model_weights.pth'))  #Load model weights\n",
        "\n",
        "\n",
        "#Saving a full model\n",
        "model = ExModel()\n",
        "torch.save(model, 'model.pth')\n",
        "model = torch.load('model.pth') #Load full model"
      ],
      "execution_count": 222,
      "outputs": []
    },
    {
      "cell_type": "markdown",
      "metadata": {
        "id": "1Pcy4gjq2Q6K"
      },
      "source": [
        "During training, you can also save the state of your optimizer, which similarly has a state dictionary. This is especially important if you are using momentum-based optimizers (such as Adam)."
      ]
    },
    {
      "cell_type": "code",
      "metadata": {
        "id": "vxkWe5Kl2hf4"
      },
      "source": [
        "optimizer = torch.optim.Adam(model.parameters(), lr = learning_rate)\n",
        "torch.save(optimizer.state_dict(), 'optimizer_state.pth')\n",
        "optimizer.load_state_dict(torch.load('optimizer_state.pth'))"
      ],
      "execution_count": 223,
      "outputs": []
    },
    {
      "cell_type": "markdown",
      "metadata": {
        "id": "9uenGHqZ277M"
      },
      "source": [
        "Often time, you might want to save many quantities at the same time when training a model. These can include:\n",
        "- Model weights/state\n",
        "- Optimizer weights/state\n",
        "- Training loss\n",
        "- Validation loss\n",
        "\n",
        "One common way to say all of these at once is using a dictionary. You can access all relevant quantities at a point in training in a single checkpoint.\n",
        "\n",
        "Note: You do not always need to save the model at each epoch. You may wish to define a `save_interval` to determine how often you save the weights."
      ]
    },
    {
      "cell_type": "code",
      "metadata": {
        "id": "Lt-j0Gmf3iyf"
      },
      "source": [
        "#Randomly generate data and labels\n",
        "data = torch.rand(batch_size, 100)\n",
        "labels = torch.rand(batch_size, 1)\n",
        "epochs = 10\n",
        "train_losses = []\n",
        "\n",
        "#Training epochs\n",
        "for epoch in range(epochs):\n",
        "  optimizer.zero_grad()\n",
        "  out = model(data)           #Generate predictions using the model\n",
        "  loss = loss_fn(out, labels) #Loss/error\n",
        "  train_losses.append(loss)\n",
        "  loss.backward()            #Propagate the gradients in backward pass\n",
        "  optimizer.step()\n",
        "  ckpt = {'train_losses': train_losses, 'model_weights': model.state_dict(),  # Define checkpoint\n",
        "          'optimizer_state': optimizer.state_dict()}                          # dictionary\n",
        "  torch.save(ckpt, f'trained_model_e{epoch}.ckpt')  #Save checkpoint for each epoch"
      ],
      "execution_count": 224,
      "outputs": []
    },
    {
      "cell_type": "markdown",
      "metadata": {
        "id": "6Gid_b2tyw8_"
      },
      "source": [
        "## Example: Iris Classification"
      ]
    },
    {
      "cell_type": "code",
      "metadata": {
        "id": "iRj-ie8Vy67K"
      },
      "source": [
        "from sklearn.datasets import load_iris\n",
        "from sklearn.model_selection import train_test_split\n",
        "from sklearn.preprocessing import StandardScaler\n",
        "\n",
        "iris = load_iris()\n",
        "X = iris['data']\n",
        "y = iris['target']\n",
        "names = iris['target_names']\n",
        "feature_names = iris['feature_names']\n",
        "\n",
        "# Scale data to have mean 0 and variance 1 \n",
        "# which is importance for convergence of the neural network\n",
        "scaler = StandardScaler()\n",
        "X_scaled = scaler.fit_transform(X)\n",
        "\n",
        "# Split the data set into training and testing\n",
        "X_train, X_test, y_train, y_test = train_test_split(\n",
        "    X_scaled, y, test_size=0.2, random_state=2)"
      ],
      "execution_count": 225,
      "outputs": []
    },
    {
      "cell_type": "code",
      "metadata": {
        "id": "XjRBl-240fzm",
        "colab": {
          "base_uri": "https://localhost:8080/",
          "height": 388
        },
        "outputId": "939a08dd-f261-4e56-c007-b88f3eb99879"
      },
      "source": [
        "import matplotlib.pyplot as plt\n",
        "\n",
        "fig, (ax1, ax2) = plt.subplots(1, 2, figsize=(16, 6))\n",
        "for target, target_name in enumerate(names):\n",
        "    X_plot = X[y == target]\n",
        "    ax1.plot(X_plot[:, 0], X_plot[:, 1], \n",
        "             linestyle='none', \n",
        "             marker='o', \n",
        "             label=target_name)\n",
        "ax1.set_xlabel(feature_names[0])\n",
        "ax1.set_ylabel(feature_names[1])\n",
        "ax1.axis('equal')\n",
        "ax1.legend();\n",
        "\n",
        "for target, target_name in enumerate(names):\n",
        "    X_plot = X[y == target]\n",
        "    ax2.plot(X_plot[:, 2], X_plot[:, 3], \n",
        "             linestyle='none', \n",
        "             marker='o', \n",
        "             label=target_name)\n",
        "ax2.set_xlabel(feature_names[2])\n",
        "ax2.set_ylabel(feature_names[3])\n",
        "ax2.axis('equal')\n",
        "ax2.legend();"
      ],
      "execution_count": 226,
      "outputs": [
        {
          "output_type": "display_data",
          "data": {
            "text/plain": [
              "<Figure size 1152x432 with 2 Axes>"
            ],
            "image/png": "[encoded data removed]"
          },
          "metadata": {
            "needs_background": "light"
          }
        }
      ]
    },
    {
      "cell_type": "code",
      "metadata": {
        "id": "NX6J7qO50em2"
      },
      "source": [
        "import torch.nn.functional as F\n",
        "class Model(nn.Module):\n",
        "    def __init__(self, input_dim):\n",
        "        super(Model, self).__init__()\n",
        "        self.layer1 = nn.Linear(input_dim, 50)\n",
        "        self.layer2 = nn.Linear(50, 50)\n",
        "        self.layer3 = nn.Linear(50, 3)\n",
        "        \n",
        "    def forward(self, x):\n",
        "        x = F.relu(self.layer1(x))\n",
        "        x = F.relu(self.layer2(x))\n",
        "        x = F.softmax(self.layer3(x), dim=1)\n",
        "        return x"
      ],
      "execution_count": 227,
      "outputs": []
    },
    {
      "cell_type": "code",
      "metadata": {
        "id": "Y_cmxgxD0nN4",
        "colab": {
          "base_uri": "https://localhost:8080/"
        },
        "outputId": "c616c5b9-39e5-4d66-bd1a-6b326a332f7e"
      },
      "source": [
        "model     = Model(X_train.shape[1])\n",
        "optimizer = torch.optim.Adam(model.parameters(), lr=0.001)\n",
        "loss_fn   = nn.CrossEntropyLoss()\n",
        "model"
      ],
      "execution_count": 228,
      "outputs": [
        {
          "output_type": "execute_result",
          "data": {
            "text/plain": [
              "Model(\n",
              "  (layer1): Linear(in_features=4, out_features=50, bias=True)\n",
              "  (layer2): Linear(in_features=50, out_features=50, bias=True)\n",
              "  (layer3): Linear(in_features=50, out_features=3, bias=True)\n",
              ")"
            ]
          },
          "metadata": {},
          "execution_count": 228
        }
      ]
    },
    {
      "cell_type": "code",
      "metadata": {
        "id": "hyt-DraC1gVV",
        "colab": {
          "base_uri": "https://localhost:8080/"
        },
        "outputId": "b261f710-fbda-4398-b14c-6bdeaf277482"
      },
      "source": [
        "import tqdm\n",
        "\n",
        "EPOCHS  = 100\n",
        "X_train = torch.from_numpy(X_train).float()\n",
        "y_train = torch.from_numpy(y_train).long()\n",
        "X_test  = torch.from_numpy(X_test).float()\n",
        "y_test  = torch.from_numpy(y_test).long()\n",
        "\n",
        "loss_list     = np.zeros((EPOCHS,))\n",
        "accuracy_list = np.zeros((EPOCHS,))\n",
        "\n",
        "for epoch in tqdm.trange(EPOCHS):\n",
        "    y_pred = model(X_train)\n",
        "    loss = loss_fn(y_pred, y_train)\n",
        "    loss_list[epoch] = loss.item()\n",
        "    \n",
        "    # Zero gradients\n",
        "    optimizer.zero_grad()\n",
        "    loss.backward()\n",
        "    optimizer.step()\n",
        "    \n",
        "    with torch.no_grad():\n",
        "        y_pred = model(X_test)\n",
        "        correct = (torch.argmax(y_pred, dim=1) == y_test).type(torch.FloatTensor)\n",
        "        accuracy_list[epoch] = correct.mean()"
      ],
      "execution_count": 229,
      "outputs": [
        {
          "output_type": "stream",
          "name": "stderr",
          "text": [
            "100%|██████████| 100/100 [00:00<00:00, 768.26it/s]\n"
          ]
        }
      ]
    },
    {
      "cell_type": "code",
      "metadata": {
        "id": "cHKYZP0o3cdC",
        "colab": {
          "base_uri": "https://localhost:8080/",
          "height": 388
        },
        "outputId": "e52507de-ce7d-4adb-9e49-98aced6b347b"
      },
      "source": [
        "fig, (ax1, ax2) = plt.subplots(2, figsize=(12, 6), sharex=True)\n",
        "\n",
        "ax1.plot(accuracy_list)\n",
        "ax1.set_ylabel(\"validation accuracy\")\n",
        "ax2.plot(loss_list)\n",
        "ax2.set_ylabel(\"training loss\")\n",
        "ax2.set_xlabel(\"epochs\");"
      ],
      "execution_count": 230,
      "outputs": [
        {
          "output_type": "display_data",
          "data": {
            "text/plain": [
              "<Figure size 864x432 with 2 Axes>"
            ],
            "image/png": "[encoded data removed]"
          },
          "metadata": {
            "needs_background": "light"
          }
        }
      ]
    },
    {
      "cell_type": "markdown",
      "metadata": {
        "id": "b7h7N_1X4lmI"
      },
      "source": [
        "## Lab Assignment: MNIST Classification Task"
      ]
    },
    {
      "cell_type": "markdown",
      "metadata": {
        "id": "B0vR5I9h4s8V"
      },
      "source": [
        "Design your own MNIST Classification model (see video recording for explanation of MNIST dataset). You may choose your own hyperparameters, including:\n",
        "- Number of layers\n",
        "- Number of neurons in each layer\n",
        "- Learning rate\n",
        "- Number of training epochs\n",
        "- Optimizer\n",
        "\n",
        "Using a fully-connected network, you should be able to accomplish >90% accuracy on the test set. Please report your hyperparameter selections and accuracy in a summary at the end of the notebook."
      ]
    },
    {
      "cell_type": "markdown",
      "metadata": {
        "id": "ly85jvec6V6A"
      },
      "source": [
        "To load the MNIST dataset, we will use `torchvision`, which contains the datasets and has useful transformations. Start by defining the batch size you want for your training and test sets"
      ]
    },
    {
      "cell_type": "code",
      "source": [
        "import torch\n",
        "import torch.nn as nn\n",
        "import torchvision\n",
        "import torchvision.transforms as transforms\n",
        "\n",
        "\n",
        "# Device configuration\n",
        "device = torch.device('cuda' if torch.cuda.is_available() else 'cpu')"
      ],
      "metadata": {
        "id": "7b0pO-oq2EJI"
      },
      "execution_count": 232,
      "outputs": []
    },
    {
      "cell_type": "code",
      "source": [
        "# Hyper-parameters \n",
        "input_size = 784\n",
        "hidden_size = 500\n",
        "num_classes = 10\n",
        "num_epochs = 5\n",
        "batch_size = 100\n",
        "learning_rate = 0.001"
      ],
      "metadata": {
        "id": "WTv2q6-l2Hsw"
      },
      "execution_count": 233,
      "outputs": []
    },
    {
      "cell_type": "code",
      "source": [
        "# MNIST dataset \n",
        "train_dataset = torchvision.datasets.MNIST(root='../../data', \n",
        "                                           train=True, \n",
        "                                           transform=transforms.ToTensor(),  \n",
        "                                           download=True)\n",
        "\n",
        "test_dataset = torchvision.datasets.MNIST(root='../../data', \n",
        "                                          train=False, \n",
        "                                          transform=transforms.ToTensor())\n",
        "\n",
        "# Data loader\n",
        "train_loader = torch.utils.data.DataLoader(dataset=train_dataset, \n",
        "                                           batch_size=batch_size, \n",
        "                                           shuffle=True)\n",
        "\n",
        "test_loader = torch.utils.data.DataLoader(dataset=test_dataset, \n",
        "                                          batch_size=batch_size, \n",
        "                                          shuffle=False)"
      ],
      "metadata": {
        "id": "WMTIRfps2K7s"
      },
      "execution_count": 234,
      "outputs": []
    },
    {
      "cell_type": "code",
      "source": [
        "# Fully connected neural network with one hidden layer\n",
        "class NeuralNet(nn.Module):\n",
        "    def __init__(self, input_size, hidden_size, num_classes):\n",
        "        super(NeuralNet, self).__init__()\n",
        "        self.fc1 = nn.Linear(input_size, hidden_size) \n",
        "        self.relu = nn.ReLU()\n",
        "        self.fc2 = nn.Linear(hidden_size, num_classes)  \n",
        "    \n",
        "    def forward(self, x):\n",
        "        out = self.fc1(x)\n",
        "        out = self.relu(out)\n",
        "        out = self.fc2(out)\n",
        "        return out\n",
        "\n",
        "model = NeuralNet(input_size, hidden_size, num_classes).to(device)"
      ],
      "metadata": {
        "id": "S6Ohe3mt2p5t"
      },
      "execution_count": 235,
      "outputs": []
    },
    {
      "cell_type": "code",
      "source": [
        "# Loss and optimizer\n",
        "criterion = nn.CrossEntropyLoss()\n",
        "optimizer = torch.optim.Adam(model.parameters(), lr=learning_rate)  \n",
        "\n",
        "# Train the model\n",
        "total_step = len(train_loader)\n",
        "for epoch in range(num_epochs):\n",
        "    for i, (images, labels) in enumerate(train_loader):  \n",
        "        # Move tensors to the configured device\n",
        "        images = images.reshape(-1, 28*28).to(device)\n",
        "        labels = labels.to(device)\n",
        "        \n",
        "        # Forward pass\n",
        "        outputs = model(images)\n",
        "        loss = criterion(outputs, labels)\n",
        "        \n",
        "        # Backward and optimize\n",
        "        optimizer.zero_grad()\n",
        "        loss.backward()\n",
        "        optimizer.step()\n",
        "        \n",
        "        if (i+1) % 100 == 0:\n",
        "            print ('Epoch [{}/{}], Step [{}/{}], Loss: {:.4f}' \n",
        "                   .format(epoch+1, num_epochs, i+1, total_step, loss.item()))"
      ],
      "metadata": {
        "colab": {
          "base_uri": "https://localhost:8080/"
        },
        "id": "rUYV5zrB2uq_",
        "outputId": "abbd61c4-806f-4de8-a627-10a617d94798"
      },
      "execution_count": 236,
      "outputs": [
        {
          "output_type": "stream",
          "name": "stdout",
          "text": [
            "Epoch [1/5], Step [100/600], Loss: 0.2862\n",
            "Epoch [1/5], Step [200/600], Loss: 0.3064\n",
            "Epoch [1/5], Step [300/600], Loss: 0.1996\n",
            "Epoch [1/5], Step [400/600], Loss: 0.3734\n",
            "Epoch [1/5], Step [500/600], Loss: 0.1364\n",
            "Epoch [1/5], Step [600/600], Loss: 0.1112\n",
            "Epoch [2/5], Step [100/600], Loss: 0.1156\n",
            "Epoch [2/5], Step [200/600], Loss: 0.1467\n",
            "Epoch [2/5], Step [300/600], Loss: 0.0672\n",
            "Epoch [2/5], Step [400/600], Loss: 0.0422\n",
            "Epoch [2/5], Step [500/600], Loss: 0.1034\n",
            "Epoch [2/5], Step [600/600], Loss: 0.0899\n",
            "Epoch [3/5], Step [100/600], Loss: 0.0478\n",
            "Epoch [3/5], Step [200/600], Loss: 0.0689\n",
            "Epoch [3/5], Step [300/600], Loss: 0.0479\n",
            "Epoch [3/5], Step [400/600], Loss: 0.0651\n",
            "Epoch [3/5], Step [500/600], Loss: 0.0388\n",
            "Epoch [3/5], Step [600/600], Loss: 0.0480\n",
            "Epoch [4/5], Step [100/600], Loss: 0.2300\n",
            "Epoch [4/5], Step [200/600], Loss: 0.0684\n",
            "Epoch [4/5], Step [300/600], Loss: 0.0497\n",
            "Epoch [4/5], Step [400/600], Loss: 0.0532\n",
            "Epoch [4/5], Step [500/600], Loss: 0.0397\n",
            "Epoch [4/5], Step [600/600], Loss: 0.0688\n",
            "Epoch [5/5], Step [100/600], Loss: 0.0167\n",
            "Epoch [5/5], Step [200/600], Loss: 0.0138\n",
            "Epoch [5/5], Step [300/600], Loss: 0.0382\n",
            "Epoch [5/5], Step [400/600], Loss: 0.0200\n",
            "Epoch [5/5], Step [500/600], Loss: 0.0229\n",
            "Epoch [5/5], Step [600/600], Loss: 0.0452\n"
          ]
        }
      ]
    },
    {
      "cell_type": "code",
      "source": [
        "# Test the model\n",
        "# In test phase, we don't need to compute gradients (for memory efficiency)\n",
        "with torch.no_grad():\n",
        "    correct = 0\n",
        "    total = 0\n",
        "    for images, labels in test_loader:\n",
        "        images = images.reshape(-1, 28*28).to(device)\n",
        "        labels = labels.to(device)\n",
        "        outputs = model(images)\n",
        "        _, predicted = torch.max(outputs.data, 1)\n",
        "        total += labels.size(0)\n",
        "        correct += (predicted == labels).sum().item()\n",
        "       \n",
        "\n",
        "    print('Accuracy of the network on the 10000 test images: {} %'.format(100 * correct / total))\n",
        "\n",
        "# Save the model checkpoint\n",
        "torch.save(model.state_dict(), 'model.ckpt')"
      ],
      "metadata": {
        "colab": {
          "base_uri": "https://localhost:8080/"
        },
        "id": "8W3G2LnW24rg",
        "outputId": "599a1f55-bac0-4b91-d55d-1f703dc5754e"
      },
      "execution_count": 238,
      "outputs": [
        {
          "output_type": "stream",
          "name": "stdout",
          "text": [
            "Accuracy of the network on the 10000 test images: 97.96 %\n"
          ]
        }
      ]
    },
    {
      "cell_type": "markdown",
      "source": [
        "A. I changed epoch ranges, used adam as optimizer as it is one of the best optimizers I also used Neural instead of Multipreceptron as it worked better for me. Luckily first learnign rate worked for me else I woud have considered changing that too.\n",
        "\n",
        "Hyper-parameters \n",
        "input_size = 784\n",
        "\n",
        "hidden_size = 500\n",
        "\n",
        "num_classes = 10\n",
        "\n",
        "num_epochs = 5\n",
        "\n",
        "batch_size = 100\n",
        "\n",
        "learning_rate = 0.001 \n",
        "\n",
        "Activation/optimizer: Adam\n"
      ],
      "metadata": {
        "id": "JNWJtAxZ44cI"
      }
    },
    {
      "cell_type": "code",
      "source": [
        ""
      ],
      "metadata": {
        "id": "vLi7EMcdBOva"
      },
      "execution_count": null,
      "outputs": []
    }
  ]
}